{
  "nbformat": 4,
  "nbformat_minor": 0,
  "metadata": {
    "colab": {
      "name": "Inventory-Management-System.ipynb",
      "provenance": [],
      "collapsed_sections": []
    },
    "kernelspec": {
      "name": "python3",
      "display_name": "Python 3"
    },
    "language_info": {
      "name": "python"
    }
  },
  "cells": [
    {
      "cell_type": "code",
      "metadata": {
        "id": "AbfczJ_1Dlj0"
      },
      "source": [
        "item={195460: {'PName':'5star', 'Price': 5, 'Quantity': 150, 'Expiry': '12 21', 'Category':'Chocolates'},\n",
        "      195461: {'PName':'Amul Dark Chocolate', 'Price': 100, 'Quantity': 200, 'Expiry': '06 22', 'Category':'Chocolates'},\n",
        "      195462: {'PName':'Cadbury Fuse Chocolate', 'Price': 20, 'Quantity': 200, 'Expiry': '06 22', 'Category':'Chocolates'},\n",
        "      195463: {'PName':'Snickers Chocolate', 'Price': 20, 'Quantity': 200, 'Expiry': '08 22', 'Category':'Chocolates'},\n",
        "      195464: {'PName':'kitkat', 'Price': 20, 'Quantity': 200, 'Expiry': '09 22', 'Category':'Chocolates'},\n",
        "      195465: {'PName':'Ferrero Rocher', 'Price':250, 'Quantity': 200, 'Expiry': '11 22', 'Category':'Chocolates'},\n",
        "      195466: {'PName':'Campco', 'Price':50, 'Quantity': 500, 'Expiry': '11 23', 'Category':'Chocolates'},\n",
        "      195467: {'PName':'Munch', 'Price':10, 'Quantity': 400, 'Expiry': '2021-09-03', 'Category':'Chocolates'},\n",
        "      195468: {'PName':'Hide & Seek', 'Price':40, 'Quantity': 200, 'Expiry': '1 22', 'Category':'Chocolates'},\n",
        "      195469: {'PName':'Bar one', 'Price':25, 'Quantity': 551, 'Expiry': '3 22', 'Category':'Chocolates'},\n",
        "      195470: {'PName':'Lotus Dark Chocolate', 'Price':200, 'Quantity': 25, 'Expiry': '4 22', 'Category':'Chocolates'},\n",
        "      195471: {'PName':'Lotus milk Chocolate', 'Price':200, 'Quantity': 55, 'Expiry': '5 23', 'Category':'Chocolates'},\n",
        "      195472: {'PName':'NIRMA', 'Price':18, 'Quantity': 1000, 'Expiry': '5 23', 'Category':'Soap'},\n",
        "      195473: {'PName':'LUX', 'Price':45, 'Quantity': 250, 'Expiry': '9 22', 'Category':'Soap'},\n",
        "      195474: {'PName':'Himalaya', 'Price':34, 'Quantity': 100, 'Expiry': '5 22', 'Category':' Bath Soap'},\n",
        "      195475: {'PName':'Cinthol Cool', 'Price':39, 'Quantity': 150, 'Expiry': '5 23', 'Category':'Bath Soap'},\n",
        "      195476: {'PName':'Godrej No 1', 'Price':20, 'Quantity': 800, 'Expiry': '5 24', 'Category':' Bath Soap'},\n",
        "      195477: {'PName':'Jhonson baby', 'Price':50, 'Quantity': 100, 'Expiry': '7 23', 'Category':'Bath Soap'},\n",
        "      195478: {'PName':'Surf excel', 'Price':28, 'Quantity': 250, 'Expiry': '9 23', 'Category':' Washing Soap'},\n",
        "      195479: {'PName':'Tide', 'Price':23, 'Quantity': 300, 'Expiry': '4 22', 'Category':' Washing Soap'},\n",
        "      195480: {'PName':'Nirma', 'Price':10, 'Quantity': 1000, 'Expiry': '7 25', 'Category':' Washing Soap'},\n",
        "      195481: {'PName':'Fena', 'Price':10, 'Quantity': 1000, 'Expiry': '5 25', 'Category':' Washiing Soap'},  \n",
        "      195482: {'PName':'Vim bar', 'Price':12,'Quantity': 500, 'Expiry': '9 24', 'Category':' Washing Soap'},\n",
        "      195483: {'PName':'Rin', 'Price':21 ,'Quantity': 250, 'Expiry': '9 23', 'Category':' Washing Soap'},\n",
        "      195484: {'PName':'Wheel', 'Price':16,'Quantity': 250, 'Expiry': '9 23', 'Category':' Washing Soap'},\n",
        "      195485: {'PName':'close up', 'Price':95, 'Quantity':90, 'Expiry': '8,22', 'Category':' Tooth Paste'},\n",
        "      195486: {'PName':'Pepsodent', 'Price':75, 'Quantity':105, 'Expiry': '5 23', 'Category':' Tooth Paste'},\n",
        "      195487: {'PName':'colgate', 'Price':60, 'Quantity':450, 'Expiry': '6 22', 'Category':' Tooth Paste'},\n",
        "      195488: {'PName':'Dabur Red', 'Price':105, 'Quantity':650, 'Expiry': '9 23', 'Category':' Tooth Paste'},\n",
        "      195489: {'PName':'Patanjali', 'Price':65, 'Quantity':230, 'Expiry': '4 23', 'Category':' Tooth Paste'},\n",
        "      195490: {'PName':'Sensodyne Fresh Mint', 'Price':12, 'Quantity':50, 'Expiry': '10 22', 'Category':' Tooth Paste'},\n",
        "  }"
      ],
      "execution_count": 24,
      "outputs": []
    },
    {
      "cell_type": "markdown",
      "metadata": {
        "id": "GNLaUDCuzz_p"
      },
      "source": [
        "**Add New Item into Inventory**"
      ]
    },
    {
      "cell_type": "code",
      "metadata": {
        "id": "3xvAe0evhvN4",
        "colab": {
          "base_uri": "https://localhost:8080/"
        },
        "outputId": "46909714-4eb1-4de4-b3ef-2cd86a4bb9e5"
      },
      "source": [
        "prod_id = len(item)+195460\n",
        "PName = str(input(\"Enter name:\"))\n",
        "Price = int(input(\"Enter price:\"))\n",
        "Quantity = int(input(\"Enter quantity:\"))\n",
        "Expiry = str(input(\"Enter Expiry:\"))\n",
        "Category = str(input(\"Enter Category:\"))\n",
        "\n",
        "item[prod_id] = {'PName': PName, 'Price': Price, 'Quantity': Quantity, 'Expiry': Expiry, 'Category': Category}\n",
        "\n",
        "js = json.dumps(item)\n",
        "\n",
        "fd = open(\"item.json\",'w')\n",
        "fd.write(js)\n",
        "fd.close()"
      ],
      "execution_count": null,
      "outputs": [
        {
          "name": "stdout",
          "output_type": "stream",
          "text": [
            "Enter product id:195484\n",
            "Enter name:shubh\n",
            "Enter price:90\n",
            "Enter quantity:90\n",
            "Enter Expiry:11'78\n",
            "Enter Category:Men\n"
          ]
        }
      ]
    },
    {
      "cell_type": "markdown",
      "metadata": {
        "id": "fwfyQrj49rCw"
      },
      "source": [
        "**view products**"
      ]
    },
    {
      "cell_type": "code",
      "metadata": {
        "id": "AYiWwUIY9oLQ"
      },
      "source": [
        "def view_product():\n",
        "    with open('item.json','r') as itm:\n",
        "        data=json.load(itm)\n",
        "        itm.close()\n",
        "        print('Product ID Product Name \\t  Category \\t\\tBrand')\n",
        "        print(\"-\" *75)\n",
        "        for product_id, product in data['PName'].items():\n",
        "            print(f\"{product_id : <10} \",f\"{item['PName']: <22}\",f\"{item['Price']: <20}\",f\"{item['Category']: <15}\")"
      ],
      "execution_count": 32,
      "outputs": []
    },
    {
      "cell_type": "code",
      "metadata": {
        "id": "Fn-yZoTsgsAg"
      },
      "source": [
        "import json"
      ],
      "execution_count": 25,
      "outputs": []
    },
    {
      "cell_type": "code",
      "metadata": {
        "id": "FGhyp70tgu12"
      },
      "source": [
        "js = json.dumps(item)"
      ],
      "execution_count": 26,
      "outputs": []
    },
    {
      "cell_type": "code",
      "metadata": {
        "id": "hFF4f2N0iDQ6"
      },
      "source": [
        "fd=open('item.json','w')\n",
        "fd.write(js)\n",
        "fd.close()"
      ],
      "execution_count": 27,
      "outputs": []
    },
    {
      "cell_type": "code",
      "metadata": {
        "id": "nShGvYkGkxxx"
      },
      "source": [
        "fd=open('item.json','r')\n",
        "fd.read()\n",
        "fd.close()"
      ],
      "execution_count": 28,
      "outputs": []
    },
    {
      "cell_type": "markdown",
      "metadata": {
        "id": "RGV7TpADLmhA"
      },
      "source": [
        "**sales**"
      ]
    },
    {
      "cell_type": "code",
      "metadata": {
        "id": "sLlQTWJ73LVv"
      },
      "source": [
        "import time\n",
        "import uuid \n",
        "def sales(i,q,payment):\n",
        "  t=time.ctime()\n",
        "  print(t)\n",
        "  print(\"Transaction id: \" + str(uuid.uuid1()))\n",
        "  print(\"Product Name: \" +item[i][\"PName\"])\n",
        "  print(\"Quantity Sold: \", q)\n",
        "  print(\"Amount: Rs \", payment)   "
      ],
      "execution_count": 35,
      "outputs": []
    },
    {
      "cell_type": "markdown",
      "metadata": {
        "id": "ddiyXQFKLiOX"
      },
      "source": [
        "**Main**"
      ]
    },
    {
      "cell_type": "code",
      "metadata": {
        "id": "bcQk5MGy33Ch",
        "colab": {
          "base_uri": "https://localhost:8080/",
          "height": 527
        },
        "outputId": "263c5020-d628-4e71-b8e3-fbf36fba1251"
      },
      "source": [
        "view_product\n",
        "\n",
        "from datetime import date\n",
        "pn=input(\"enter the name of product which you want? \")\n",
        "q=int(input(\"enter the qunatity of product \"))\n",
        "b=True\n",
        "for i in item.keys():\n",
        "  a=True\n",
        "  if pn.lower()==item[i][\"PName\"].lower():\n",
        "    print(\"Yes Product is availabel\")\n",
        "\n",
        "    if item[i][\"Quantity\"]>=q:\n",
        "      item[i][\"Quantity\"]=item[i][\"Quantity\"]-q\n",
        "      break\n",
        "    else:\n",
        "      print(\"We don't have that much quantity\")\n",
        "      b=False\n",
        "  else:\n",
        "    a=False\n",
        "\n",
        "\n",
        "if a==True or b!=False:\n",
        "  print(\"\\n Your bill is generated\")\n",
        "  \n",
        "  print(\"Product       Quantity  Price\")\n",
        "  print(item[i][\"PName\"]+\"\\t\"+str(q)+\"\\t\"+str(item[i][\"Price\"]))\n",
        "  payment=item[i][\"Price\"]*q\n",
        "  print(\"total amount you have to pay is: \",payment)\n",
        "  sales(i,q,payment)\n",
        "if a==False or b!=False:\n",
        "  print(\"Wrong product name\")\n",
        "\n"
      ],
      "execution_count": 34,
      "outputs": [
        {
          "output_type": "error",
          "ename": "KeyboardInterrupt",
          "evalue": "ignored",
          "traceback": [
            "\u001b[0;31m---------------------------------------------------------------------------\u001b[0m",
            "\u001b[0;31mKeyboardInterrupt\u001b[0m                         Traceback (most recent call last)",
            "\u001b[0;32m/usr/local/lib/python3.7/dist-packages/ipykernel/kernelbase.py\u001b[0m in \u001b[0;36m_input_request\u001b[0;34m(self, prompt, ident, parent, password)\u001b[0m\n\u001b[1;32m    728\u001b[0m             \u001b[0;32mtry\u001b[0m\u001b[0;34m:\u001b[0m\u001b[0;34m\u001b[0m\u001b[0;34m\u001b[0m\u001b[0m\n\u001b[0;32m--> 729\u001b[0;31m                 \u001b[0mident\u001b[0m\u001b[0;34m,\u001b[0m \u001b[0mreply\u001b[0m \u001b[0;34m=\u001b[0m \u001b[0mself\u001b[0m\u001b[0;34m.\u001b[0m\u001b[0msession\u001b[0m\u001b[0;34m.\u001b[0m\u001b[0mrecv\u001b[0m\u001b[0;34m(\u001b[0m\u001b[0mself\u001b[0m\u001b[0;34m.\u001b[0m\u001b[0mstdin_socket\u001b[0m\u001b[0;34m,\u001b[0m \u001b[0;36m0\u001b[0m\u001b[0;34m)\u001b[0m\u001b[0;34m\u001b[0m\u001b[0;34m\u001b[0m\u001b[0m\n\u001b[0m\u001b[1;32m    730\u001b[0m             \u001b[0;32mexcept\u001b[0m \u001b[0mException\u001b[0m\u001b[0;34m:\u001b[0m\u001b[0;34m\u001b[0m\u001b[0;34m\u001b[0m\u001b[0m\n",
            "\u001b[0;32m/usr/local/lib/python3.7/dist-packages/jupyter_client/session.py\u001b[0m in \u001b[0;36mrecv\u001b[0;34m(self, socket, mode, content, copy)\u001b[0m\n\u001b[1;32m    802\u001b[0m         \u001b[0;32mtry\u001b[0m\u001b[0;34m:\u001b[0m\u001b[0;34m\u001b[0m\u001b[0;34m\u001b[0m\u001b[0m\n\u001b[0;32m--> 803\u001b[0;31m             \u001b[0mmsg_list\u001b[0m \u001b[0;34m=\u001b[0m \u001b[0msocket\u001b[0m\u001b[0;34m.\u001b[0m\u001b[0mrecv_multipart\u001b[0m\u001b[0;34m(\u001b[0m\u001b[0mmode\u001b[0m\u001b[0;34m,\u001b[0m \u001b[0mcopy\u001b[0m\u001b[0;34m=\u001b[0m\u001b[0mcopy\u001b[0m\u001b[0;34m)\u001b[0m\u001b[0;34m\u001b[0m\u001b[0;34m\u001b[0m\u001b[0m\n\u001b[0m\u001b[1;32m    804\u001b[0m         \u001b[0;32mexcept\u001b[0m \u001b[0mzmq\u001b[0m\u001b[0;34m.\u001b[0m\u001b[0mZMQError\u001b[0m \u001b[0;32mas\u001b[0m \u001b[0me\u001b[0m\u001b[0;34m:\u001b[0m\u001b[0;34m\u001b[0m\u001b[0;34m\u001b[0m\u001b[0m\n",
            "\u001b[0;32m/usr/local/lib/python3.7/dist-packages/zmq/sugar/socket.py\u001b[0m in \u001b[0;36mrecv_multipart\u001b[0;34m(self, flags, copy, track)\u001b[0m\n\u001b[1;32m    618\u001b[0m         \"\"\"\n\u001b[0;32m--> 619\u001b[0;31m         \u001b[0mparts\u001b[0m \u001b[0;34m=\u001b[0m \u001b[0;34m[\u001b[0m\u001b[0mself\u001b[0m\u001b[0;34m.\u001b[0m\u001b[0mrecv\u001b[0m\u001b[0;34m(\u001b[0m\u001b[0mflags\u001b[0m\u001b[0;34m,\u001b[0m \u001b[0mcopy\u001b[0m\u001b[0;34m=\u001b[0m\u001b[0mcopy\u001b[0m\u001b[0;34m,\u001b[0m \u001b[0mtrack\u001b[0m\u001b[0;34m=\u001b[0m\u001b[0mtrack\u001b[0m\u001b[0;34m)\u001b[0m\u001b[0;34m]\u001b[0m\u001b[0;34m\u001b[0m\u001b[0;34m\u001b[0m\u001b[0m\n\u001b[0m\u001b[1;32m    620\u001b[0m         \u001b[0;31m# have first part already, only loop while more to receive\u001b[0m\u001b[0;34m\u001b[0m\u001b[0;34m\u001b[0m\u001b[0;34m\u001b[0m\u001b[0m\n",
            "\u001b[0;32mzmq/backend/cython/socket.pyx\u001b[0m in \u001b[0;36mzmq.backend.cython.socket.Socket.recv\u001b[0;34m()\u001b[0m\n",
            "\u001b[0;32mzmq/backend/cython/socket.pyx\u001b[0m in \u001b[0;36mzmq.backend.cython.socket.Socket.recv\u001b[0;34m()\u001b[0m\n",
            "\u001b[0;32mzmq/backend/cython/socket.pyx\u001b[0m in \u001b[0;36mzmq.backend.cython.socket._recv_copy\u001b[0;34m()\u001b[0m\n",
            "\u001b[0;32m/usr/local/lib/python3.7/dist-packages/zmq/backend/cython/checkrc.pxd\u001b[0m in \u001b[0;36mzmq.backend.cython.checkrc._check_rc\u001b[0;34m()\u001b[0m\n",
            "\u001b[0;31mKeyboardInterrupt\u001b[0m: ",
            "\nDuring handling of the above exception, another exception occurred:\n",
            "\u001b[0;31mKeyboardInterrupt\u001b[0m                         Traceback (most recent call last)",
            "\u001b[0;32m<ipython-input-34-cdafa30178f6>\u001b[0m in \u001b[0;36m<module>\u001b[0;34m()\u001b[0m\n\u001b[1;32m      2\u001b[0m \u001b[0;34m\u001b[0m\u001b[0m\n\u001b[1;32m      3\u001b[0m \u001b[0;32mfrom\u001b[0m \u001b[0mdatetime\u001b[0m \u001b[0;32mimport\u001b[0m \u001b[0mdate\u001b[0m\u001b[0;34m\u001b[0m\u001b[0;34m\u001b[0m\u001b[0m\n\u001b[0;32m----> 4\u001b[0;31m \u001b[0mpn\u001b[0m\u001b[0;34m=\u001b[0m\u001b[0minput\u001b[0m\u001b[0;34m(\u001b[0m\u001b[0;34m\"enter the name of product which you want? \"\u001b[0m\u001b[0;34m)\u001b[0m\u001b[0;34m\u001b[0m\u001b[0;34m\u001b[0m\u001b[0m\n\u001b[0m\u001b[1;32m      5\u001b[0m \u001b[0mq\u001b[0m\u001b[0;34m=\u001b[0m\u001b[0mint\u001b[0m\u001b[0;34m(\u001b[0m\u001b[0minput\u001b[0m\u001b[0;34m(\u001b[0m\u001b[0;34m\"enter the qunatity of product \"\u001b[0m\u001b[0;34m)\u001b[0m\u001b[0;34m)\u001b[0m\u001b[0;34m\u001b[0m\u001b[0;34m\u001b[0m\u001b[0m\n\u001b[1;32m      6\u001b[0m \u001b[0mb\u001b[0m\u001b[0;34m=\u001b[0m\u001b[0;32mTrue\u001b[0m\u001b[0;34m\u001b[0m\u001b[0;34m\u001b[0m\u001b[0m\n",
            "\u001b[0;32m/usr/local/lib/python3.7/dist-packages/ipykernel/kernelbase.py\u001b[0m in \u001b[0;36mraw_input\u001b[0;34m(self, prompt)\u001b[0m\n\u001b[1;32m    702\u001b[0m             \u001b[0mself\u001b[0m\u001b[0;34m.\u001b[0m\u001b[0m_parent_ident\u001b[0m\u001b[0;34m,\u001b[0m\u001b[0;34m\u001b[0m\u001b[0;34m\u001b[0m\u001b[0m\n\u001b[1;32m    703\u001b[0m             \u001b[0mself\u001b[0m\u001b[0;34m.\u001b[0m\u001b[0m_parent_header\u001b[0m\u001b[0;34m,\u001b[0m\u001b[0;34m\u001b[0m\u001b[0;34m\u001b[0m\u001b[0m\n\u001b[0;32m--> 704\u001b[0;31m             \u001b[0mpassword\u001b[0m\u001b[0;34m=\u001b[0m\u001b[0;32mFalse\u001b[0m\u001b[0;34m,\u001b[0m\u001b[0;34m\u001b[0m\u001b[0;34m\u001b[0m\u001b[0m\n\u001b[0m\u001b[1;32m    705\u001b[0m         )\n\u001b[1;32m    706\u001b[0m \u001b[0;34m\u001b[0m\u001b[0m\n",
            "\u001b[0;32m/usr/local/lib/python3.7/dist-packages/ipykernel/kernelbase.py\u001b[0m in \u001b[0;36m_input_request\u001b[0;34m(self, prompt, ident, parent, password)\u001b[0m\n\u001b[1;32m    732\u001b[0m             \u001b[0;32mexcept\u001b[0m \u001b[0mKeyboardInterrupt\u001b[0m\u001b[0;34m:\u001b[0m\u001b[0;34m\u001b[0m\u001b[0;34m\u001b[0m\u001b[0m\n\u001b[1;32m    733\u001b[0m                 \u001b[0;31m# re-raise KeyboardInterrupt, to truncate traceback\u001b[0m\u001b[0;34m\u001b[0m\u001b[0;34m\u001b[0m\u001b[0;34m\u001b[0m\u001b[0m\n\u001b[0;32m--> 734\u001b[0;31m                 \u001b[0;32mraise\u001b[0m \u001b[0mKeyboardInterrupt\u001b[0m\u001b[0;34m\u001b[0m\u001b[0;34m\u001b[0m\u001b[0m\n\u001b[0m\u001b[1;32m    735\u001b[0m             \u001b[0;32melse\u001b[0m\u001b[0;34m:\u001b[0m\u001b[0;34m\u001b[0m\u001b[0;34m\u001b[0m\u001b[0m\n\u001b[1;32m    736\u001b[0m                 \u001b[0;32mbreak\u001b[0m\u001b[0;34m\u001b[0m\u001b[0;34m\u001b[0m\u001b[0m\n",
            "\u001b[0;31mKeyboardInterrupt\u001b[0m: "
          ]
        }
      ]
    },
    {
      "cell_type": "code",
      "metadata": {
        "id": "XRzJZoCAIFwD"
      },
      "source": [
        "fd=open('sales.json','w')\n",
        "fd.append(sl)\n",
        "fd.close()"
      ],
      "execution_count": null,
      "outputs": []
    }
  ]
}